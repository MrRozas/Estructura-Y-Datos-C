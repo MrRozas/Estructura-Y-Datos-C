{
  "nbformat": 4,
  "nbformat_minor": 0,
  "metadata": {
    "colab": {
      "name": "Resumen C basico.ipynb",
      "provenance": [],
      "collapsed_sections": []
    },
    "kernelspec": {
      "name": "python3",
      "display_name": "Python 3"
    },
    "language_info": {
      "name": "python"
    }
  },
  "cells": [
    {
      "cell_type": "markdown",
      "source": [
        "# Resumen C básico\n",
        "\n",
        "### Lenguajes compilados vs interpretados\n",
        "\n",
        "Es común categorizar los lenguajes de programación entre **compilados** e **interpretados**. El lenguaje C corresponde a un lenguaje compilado, mientras que Python es un lenguaje interpretado. Las diferencias son las siguientes:\n",
        "\n",
        "- En un **lenguaje compilado**, el compilador primero genera un código de bajo nivel (es decir, un código cercano al código máquina) a partir del código fuente. Luego se ejecuta este código de bajo nivel. \n",
        "\n",
        "- En un **lenguaje interpretado**, el interprete ejecuta directamente el programa desde el código fuente. \n",
        "\n",
        "\n",
        "Una de las motivaciones principales de los lenguajes compilados es la _eficiencia_. Siempre es mucho más eficiente ejecutar un código de bajo nivel que ejectuar desde el código fuente. Ahora bien, ser capaz de compilar un programa a código de bajo nivel no es una tarea fácil, por lo cual los lenguajes compilados como C tienden a imponer más restricciones en su diseño, como por ejemplo el **tipado estático o fuerte**: para usar una variable se debe primero declarar su tipo (en particular, así sabemos a priori la cantidad de memoria que ocupa la variable). Esta y otras restricciones facilitan el análisis de los programas y luego el proceso de compilación.\n",
        "\n",
        "Por otra parte, los lenguajes interpretados se relacionan con  _flexibilidad_ y _usabilidad_. Es mucho más simple para el usuario ejecutar directamente desde el código fuente. Además, como los intérpretes en general van ejecutando el código línea por línea (en vez de analizar el programa como un todo), es más fácil en este caso proveer herramientas interactivas para programar (algunos ejemplos son la consola de Python o el uso de Python con Jupyter Notebooks o Google Colab). Como en este caso no se requiere compilar, es natural que los lenguajes sean más flexibles e impongan menos restricciones. Un ejemplo de esto es el **tipado dinámico o débil** presente en Python: no es necesario declarar los tipos de las variables.  \n",
        "\n",
        "\n",
        "\n"
      ],
      "metadata": {
        "id": "FltIpPpftqdm"
      }
    },
    {
      "cell_type": "markdown",
      "source": [
        "### Un primer programa: hola mundo\n",
        "\n",
        "Escribamos nuestro primer programa en C que escribe a la pantalla \"Hola Mundo\". Para trabajar en Colab con C, utilizamos primero el comando `%%writefile archivo.c` que escribe el código de la celda en el archivo `archivo.c`. Luego utilizamos el comando `%%shell` que ejecuta en una terminal los comandos escritos en la celda. En este Colab los comandos siempre serán `gcc archivo.c -o archivo` (compilamos `archivo.c` y generamos `archivo`) y `./archivo` (ejecutamos `archivo`).  "
      ],
      "metadata": {
        "id": "oF5x0Neqk7Dh"
      }
    },
    {
      "cell_type": "code",
      "execution_count": null,
      "metadata": {
        "id": "xM4C6DaBP4GL"
      },
      "outputs": [],
      "source": [
        "%%writefile ejemplo1.c\n",
        "\n",
        "#include <stdio.h>\n",
        "\n",
        "int main()\n",
        "{\n",
        "    printf(\"Hola Mundo\\n\");\n",
        "    return 0;\n",
        "}"
      ]
    },
    {
      "cell_type": "code",
      "source": [
        "%%shell\n",
        "\n",
        "gcc ejemplo1.c -o ejemplo1\n",
        "./ejemplo1"
      ],
      "metadata": {
        "id": "55LbkJXmRbaD"
      },
      "execution_count": null,
      "outputs": []
    },
    {
      "cell_type": "markdown",
      "source": [
        "Ya podemos observar algunas cosas básicas de C:\n",
        "- Tenemos una línea `#include <stdio.h>`. El comando `#include` sirve para incluir algún archivo a nuestro código (como el `import` de Python). En este caso `stdio.h` corresponde a la librería estándar de C para trabajar con entrada/salida. \n",
        "\n",
        "- Cada instrucción en C debe terminar con un _punto y coma_. En C la indentación no es necesaria (pero siempre es útil). De hecho, el compilador ignora los espacios entre instrucciones. \n",
        "\n",
        "- Tenemos una función `main`. Esta función es lo primero que se ejecutará en nuestro programa. Por ende, siempre debe haber una llamada a la función main en nuestro programa. Eventualmente podriamos tener otras funciones en nuestro archivo (o quizás en otros archivos). \n",
        "\n",
        "- La definición de las funciones en C tiene la siguiente forma:\n",
        "```c\n",
        "tipo_salida nombre_funcion(tipo1 param1, tipo2 param2,...)\n",
        "{\n",
        "  Instrucciones de la funcion\n",
        "}\n",
        "```\n",
        "En el caso de `main`, el tipo de salida es siempre `int`, y en el código de arriba, no hay ningún parámetro de entrada (en general la función `main` **sí** puede tener parámetros). En caso  que una función no retorne nada, usamos  el keyword `void` en vez de `tipo_salida`. Por otra parte, si la función no tiene parámetros, escribimos `tipo_salida nombre_funcion(void)` o bien `tipo_salida nombre_funcion()`.\n",
        "\n",
        "- Hay una llamada a la función `printf`, la cual imprime a la pantalla el string \"Hola Mundo\\n\" (el caracter '\\n' es un salto de línea).  \n",
        "\n",
        "\n",
        "Para hacer comentarios de una línea ocupamos //. Para comentarios de más de una línea usamos /* */. \n",
        "\n",
        "```c\n",
        "// este es un comentario de una linea\n",
        "\n",
        "/* este es\n",
        "un comentario de \n",
        "varias lineas */\n",
        "```"
      ],
      "metadata": {
        "id": "xkkjf2p-paq1"
      }
    },
    {
      "cell_type": "markdown",
      "source": [
        "### Variables en C\n",
        "\n",
        "Para utilizar una variable debemos declarar su _tipo_. Algunos tipos comunes:\n",
        "\n",
        "Tipo   | Bytes |  Descripción\n",
        "-------|-------|------------------\n",
        "char   | 1     | caracter\n",
        "int    | 4     | número entero\n",
        "long   | 8     | número entero\n",
        "float  | 4     | número con decimales            \n",
        "double | 8     | número con decimales\n",
        "\n",
        "Si bien arriba aparecen los tamaños típicos para cada tipo, estos podrían diferir según la máquina (por ejemplo `int` podría ocupar 2 bytes). Para ver los tamaños concretos podemos ocupar la función `sizeof`.\n"
      ],
      "metadata": {
        "id": "-CzQOm9Z7XA9"
      }
    },
    {
      "cell_type": "code",
      "source": [
        "%%writefile ejemplo2.c\n",
        "\n",
        "#include <stdio.h>\n",
        "\n",
        "// imprime a pantalla los tamaños de los tipos básicos\n",
        "\n",
        "int main()\n",
        "{\n",
        "    printf(\"Tamaño de char: %ld bytes\\n\", sizeof(char));\n",
        "    printf(\"Tamaño de int: %ld bytes\\n\", sizeof(int));\n",
        "    printf(\"Tamaño de long: %ld bytes\\n\", sizeof(long));\n",
        "    printf(\"Tamaño de float: %ld bytes\\n\", sizeof(float));\n",
        "    printf(\"Tamaño de double: %ld bytes\\n\", sizeof(double));\n",
        "  \n",
        "    return 0;\n",
        "}"
      ],
      "metadata": {
        "id": "zCogVUwHOHbr"
      },
      "execution_count": null,
      "outputs": []
    },
    {
      "cell_type": "code",
      "source": [
        "%%shell\n",
        "\n",
        "gcc ejemplo2.c -o ejemplo2\n",
        "./ejemplo2"
      ],
      "metadata": {
        "id": "fvZx5AFMOmsS"
      },
      "execution_count": null,
      "outputs": []
    },
    {
      "cell_type": "markdown",
      "source": [
        "Para declarar una variable usamos `tipo nombre_variable;`. Podemos asignarle un valor después de declararla o al momento de declararla. También podemos declarar varias variables de un mismo tipo en una sóla línea. "
      ],
      "metadata": {
        "id": "g5jnaw0uVvLS"
      }
    },
    {
      "cell_type": "code",
      "source": [
        "%%writefile ejemplo3.c\n",
        "\n",
        "#include <stdio.h>\n",
        "\n",
        "int main()\n",
        "{\n",
        "    char c1, c2;\n",
        "    c1 = 's';\n",
        "    c2 = 'm';\n",
        "    int num1 = 55, num2 = -100;\n",
        "    float r1 = 0.56, r2, r3 = 9.99;\n",
        "    r2 = 3.4456; \n",
        "  \n",
        "    printf(\"c2 es %c\\n\", c2);\n",
        "    printf(\"El tamaño de c2 es %ld\\n\", sizeof(c2));\n",
        "    printf(\"num2 es %d\\n\", num2);\n",
        "    printf(\"El tamaño de num2 es %ld\\n\", sizeof(num2));\n",
        "    printf(\"r3 es %f\\n\", r3);\n",
        "    printf(\"El tamaño de r3 es %ld\\n\", sizeof(r3));\n",
        "\n",
        "    return 0;\n",
        "}"
      ],
      "metadata": {
        "id": "nAdjhP9-QqTk"
      },
      "execution_count": null,
      "outputs": []
    },
    {
      "cell_type": "code",
      "source": [
        "%%shell\n",
        "\n",
        "gcc ejemplo3.c -o ejemplo3\n",
        "./ejemplo3"
      ],
      "metadata": {
        "id": "0astp4zsQ85P"
      },
      "execution_count": null,
      "outputs": []
    },
    {
      "cell_type": "markdown",
      "source": [
        "Observe que el primer argumento de la función `printf` puede ser un string con _especificadores de formato_. Estos especificadores son símbolos especiales los cuales son reemplazados por variables de cierto tipo (dependiendo del especificador). Algunos especificadores comunes:\n",
        "\n",
        "Especificador | Tipo Variable\n",
        "--------------|------------------\n",
        "%c            | char\n",
        "%d (o %i)     | int\n",
        "%ld           | long\n",
        "%f            | float   \n",
        "%lf           | double"
      ],
      "metadata": {
        "id": "XP9VC7gScAWs"
      }
    },
    {
      "cell_type": "markdown",
      "source": [
        "Es posible anteponer el keyword `const` en la declaración de una variable para indicar que esta **no** puede ser modificada. Por ejemplo:\n",
        "```c\n",
        "const double pi = 3.1415926;\n",
        "```\n"
      ],
      "metadata": {
        "id": "Q250BcBDjZ0y"
      }
    },
    {
      "cell_type": "markdown",
      "source": [
        "### Operadores\n",
        "\n",
        "Existen muchos operadores para aplicar entre valores/variables. Muchos de ellos son similares a los de Python. Algunos operadores útiles:\n",
        "\n",
        "- _Operadores aritméticos_: +, -, *, /, %, ++ (incrementa 1), -- (decrementa 1)\n",
        "- _Operadores de asignación_: =, +=, -=, *=, /=, %=\n",
        "- _Operadores de comparación_: ==, !=, >, <, >=, <=\n",
        "- _Operadores lógicos_: &&, ||, !\n",
        "\n",
        "En principio, C **no** tiene un tipo de dato especial `bool`. Para trabajar con booleanos se usa 0 (falso) y 1 (verdadero). En particular, los operadores de comparación y lógicos siguen esta convención."
      ],
      "metadata": {
        "id": "F9NEGvya4Ray"
      }
    },
    {
      "cell_type": "code",
      "source": [
        "%%writefile ejemplo4.c\n",
        "\n",
        "#include <stdio.h>\n",
        "\n",
        "int main()\n",
        "{\n",
        "    int num1 = 10, num2 = 8;\n",
        " \n",
        "    printf(\"Valor de verdad de num1 == num2: %d\\n\", num1 == num2);\n",
        "    printf(\"Valor de verdad de num1 != num2: %d\\n\", num1 != num2);\n",
        "    printf(\"Valor de verdad de num1 > num2: %d\\n\", num1 > num2);\n",
        " \n",
        "    // chequeamos que num1 + num2 este en rango [10, 20]\n",
        "    printf(\"Valor de verdad de (10 < num1 + num2) && (num1 + num2 < 20): %d\\n\", (10 <= num1 + num2) && (num1 + num2 <= 20));\n",
        " \n",
        "    // chequeamos que num1 o num2 sea impar\n",
        "    printf(\"Valor de verdad de (num1 %% 2 == 1) || (num2 %% 2 == 1): %d\\n\", (num1 % 2 == 1) || (num2 % 2 == 1));\n",
        "    printf(\"Valor de verdad de !((num1 %% 2 == 0) && (num2 %% 2 == 0)): %d\\n\", !((num1 % 2 == 0) && (num2 % 2 == 0)));\n",
        "\n",
        "    return 0;\n",
        "}"
      ],
      "metadata": {
        "id": "4Twl_bwC7DwS"
      },
      "execution_count": null,
      "outputs": []
    },
    {
      "cell_type": "code",
      "source": [
        "%%shell\n",
        "\n",
        "gcc ejemplo4.c -o ejemplo4\n",
        "./ejemplo4"
      ],
      "metadata": {
        "id": "7PfZIqFs7aha"
      },
      "execution_count": null,
      "outputs": []
    },
    {
      "cell_type": "markdown",
      "source": [
        "### Conversión de tipos\n",
        "\n",
        "El tipo de una variable o constante puede cambiar en dos grandes casos (acá con constantes nos referimos a valores concretos como `'F'`, `10` o `4.5`):\n",
        "\n",
        "- **Conversión implícita**: El tipo de una variable/constante puede cambiar automáticamente en caso de ser necesario. Un ejemplo común es cuando tenemos expresiones que involucran operadores y variables/constantes de distintos tipos.\n",
        "```c\n",
        "int i = 10;\n",
        "float f = 3.5;\n",
        "float sum = f + i;\n",
        "``` \n",
        "En la expresión `f+i` la variable `i` se convierte a `float`. En general cuando tenemos distintos tipos en una misma expresión, todos los tipos se cambian al tipo más \"general\", de manera de no perder información. \n",
        "Otro caso de conversión implícita puede ocurrir cuando asignamos  una variable a una expresión.\n",
        "```c\n",
        "tipo var = expr;\n",
        "````\n",
        "En este ejemplo, a la variable `var`se le asigna la expresión `expr` convertida al tipo `tipo`. Finalmente, las conversiones pueden ocurrir cuando pasamos argumentos a una función o cuando retornamos valores de una función."
      ],
      "metadata": {
        "id": "cinsFx3BCxKb"
      }
    },
    {
      "cell_type": "code",
      "source": [
        "%%writefile ejemplo5.c\n",
        "\n",
        "#include <stdio.h>\n",
        "\n",
        "int main()\n",
        "{\n",
        "    // conversión automática de int a float en una asignación\n",
        " \n",
        "    int i = 100;\n",
        "    float f = i;\n",
        "    printf(\"Valor de f: %f\\n\", f); \n",
        " \n",
        "    /* conversión automática de float a int en una asignación.\n",
        "    Ojo que en este tipo de conversión puede haber perdida de información, \n",
        "    ya que pasamos de un tipo más general como float a uno menos general como int */\n",
        " \n",
        "    float g = 4.576;\n",
        "    int j = g;\n",
        "    printf(\"Valor de j: %d\\n\", j); \n",
        " \n",
        "    // conversión de int a float en una expresión.\n",
        " \n",
        "    float h = g + i + 100;\n",
        "    printf(\"Valor de h: %f\\n\", h); \n",
        " \n",
        "    // conversión de int a float en una expresión y luego conversión de float a int en una asignación.\n",
        " \n",
        "    j = g + i + 100;\n",
        "    printf(\"Valor de j: %d\\n\", j); \n",
        " \n",
        "    // ejemplos conversiones entre char e int\n",
        " \n",
        "    char c = 'w';\n",
        "    int k = c;\n",
        "    printf(\"Valor de k: %d\\n\", k); \n",
        " \n",
        "    char d = 119;\n",
        "    printf(\"Valor de d: %c\\n\", d);   \n",
        " \n",
        "    int a = 100 + 'e' + 'r';\n",
        "    printf(\"Valor de a: %d\\n\", a);   \n",
        " \n",
        "    return 0;\n",
        "}"
      ],
      "metadata": {
        "id": "guLvQkMqHA-f"
      },
      "execution_count": null,
      "outputs": []
    },
    {
      "cell_type": "code",
      "source": [
        "%%shell\n",
        "\n",
        "gcc ejemplo5.c -o ejemplo5\n",
        "./ejemplo5"
      ],
      "metadata": {
        "id": "nBQYRC-wHCzs"
      },
      "execution_count": null,
      "outputs": []
    },
    {
      "cell_type": "markdown",
      "source": [
        "- **Conversión explícita**: Es posible forzar explícitamente el tipo de una expresión mediante la sintaxis:\n",
        "```c\n",
        "(nuevo_tipo) expr;\n",
        "```"
      ],
      "metadata": {
        "id": "n-0f_nZEIRrY"
      }
    },
    {
      "cell_type": "code",
      "source": [
        "%%writefile ejemplo6.c\n",
        "\n",
        "#include <stdio.h>\n",
        "\n",
        "int main()\n",
        "{\n",
        "    float f = 3.9, g =2.6;\n",
        "    int i = (int)f + (int)g;\n",
        "    int j = f + g;\n",
        " \n",
        "    //printf(\"Valor de i: %d\\n\", i);\n",
        "    //printf(\"Valor de j: %d\\n\", j);\n",
        " \n",
        "    int suma = 17;\n",
        "    int cantidad = 5;\n",
        "    float promedio1 = 17/5;\n",
        "    float promedio2 = (float) (17/5);\n",
        "    float promedio3 = (float)17 / (float)5;\n",
        "    float promedio4 = (float) 17/5;\n",
        " \n",
        "    printf(\"Valor de promedio1: %f\\n\", promedio1);\n",
        "    \n",
        "    printf(\"Valor de promedio2: %f\\n\", promedio2);\n",
        "    printf(\"Valor de promedio3: %f\\n\", promedio3);\n",
        "    printf(\"Valor de promedio4: %f\\n\", promedio4);\n",
        "  \n",
        "    return 0;\n",
        "}\n"
      ],
      "metadata": {
        "id": "5dcsGMEfJ7mI"
      },
      "execution_count": null,
      "outputs": []
    },
    {
      "cell_type": "code",
      "source": [
        "%%shell\n",
        "\n",
        "gcc ejemplo6.c -o ejemplo6\n",
        "./ejemplo6"
      ],
      "metadata": {
        "id": "PsGkjbhLJ8WM"
      },
      "execution_count": null,
      "outputs": []
    },
    {
      "cell_type": "markdown",
      "source": [
        "### Control de flujo\n",
        "\n",
        "El control de flujo en C es similar al de Python, aunque hay algunas diferencias de sintaxis. Los comandos más comunes son:\n",
        "\n",
        "```c\n",
        "if(condicion)\n",
        "{\n",
        "  Instruccion si condicion es verdadera\n",
        "}\n",
        "Mas instrucciones\n",
        "```\n",
        "\n",
        "\n",
        "```c\n",
        "if(condicion)\n",
        "{\n",
        "  Instruccion si condicion es verdadera\n",
        "}\n",
        "else\n",
        "{\n",
        "  Instruccion si condicion es falsa\n",
        "}\n",
        "Mas instrucciones\n",
        "```\n",
        "\n",
        "```c\n",
        "if(condicion1)\n",
        "{\n",
        "  Instruccion si condicion1 es verdadera\n",
        "}\n",
        "else if(condicion2)\n",
        "{\n",
        "  Instruccion si condicion2 es verdadera\n",
        "}\n",
        "else\n",
        "{\n",
        "  Instruccion en caso contrario\n",
        "}\n",
        "Mas instrucciones\n",
        "```"
      ],
      "metadata": {
        "id": "oO7xN0TWCvkx"
      }
    },
    {
      "cell_type": "markdown",
      "source": [
        "Por supuesto, es posible usar la cantidad de `else if` que uno desee (arriba pusimos uno solo para ejemplificar). A continuación un código de ejemplo:\n",
        "\n"
      ],
      "metadata": {
        "id": "SkzfcrTjd1k9"
      }
    },
    {
      "cell_type": "code",
      "source": [
        "%%writefile ejemplo7.c\n",
        "\n",
        "#include <stdio.h>\n",
        "\n",
        "// prototipo de funciones a usar\n",
        "\n",
        "int valor_absoluto(int x);\n",
        "int maximo(int x, int y);\n",
        "\n",
        "/* aca pueden ir otras definiciones generales \n",
        "como variables globales, tipos de datos creados por el usuario, etc... */\n",
        "\n",
        "int main()\n",
        "{\n",
        "    int num1 = 4, num2 = -40, num3 = 19;\n",
        "\n",
        "    printf(\"Valor absoluto de num2: %d\\n\", valor_absoluto(num2));\n",
        "    printf(\"Valor absoluto de num3: %d\\n\", valor_absoluto(num3));\n",
        " \n",
        "    printf(\"Máximo entre num1 y num2: %d\\n\", maximo(num1, num2));\n",
        "    printf(\"Máximo entre num1 y num3: %d\\n\", maximo(num1, num3));\n",
        "    \n",
        "    return 0; \n",
        "}\n",
        "\n",
        "// defincion de las funciones declaradas al comienzo\n",
        "\n",
        "int valor_absoluto(int x)\n",
        "{\n",
        "    if(x >= 0) \n",
        "      return x;\n",
        "    else\n",
        "      return -1*x;\n",
        "}\n",
        "\n",
        "int maximo(int x, int y)\n",
        "{\n",
        "    if(x >= y)\n",
        "      return x;\n",
        "    else \n",
        "      return y;\n",
        "}"
      ],
      "metadata": {
        "id": "4ef9XFIQ9EII"
      },
      "execution_count": null,
      "outputs": []
    },
    {
      "cell_type": "code",
      "source": [
        "%%shell\n",
        "\n",
        "gcc ejemplo7.c -o ejemplo7\n",
        "./ejemplo7"
      ],
      "metadata": {
        "id": "re_DeErvZkZm"
      },
      "execution_count": null,
      "outputs": []
    },
    {
      "cell_type": "markdown",
      "source": [
        "Observe que antes del main declaramos las funciones a utilizar, indicando sólo sus prototipos (nombre, tipo de parámetros, tipo de salida). Las definiciones concretas de las funciones las escribimos después del main. Esta forma de estructurar el programa es muy común y recomendable. Antes del main, aparte de los prototipos de funciones a usar, también podemos declarar _variables globales_ y otras cosas que sean útiles. "
      ],
      "metadata": {
        "id": "Isdsrme-BzXA"
      }
    },
    {
      "cell_type": "markdown",
      "source": [
        "Para el control de loops podemos usar:\n",
        "\n",
        "```c\n",
        "while(condicion)\n",
        "{\n",
        "  Instrucciones que se ejecutan mientras condicion sea verdadera\n",
        "}\n",
        "```\n",
        "\n",
        "```c\n",
        "for(init; condicion; incremento)\n",
        "{\n",
        "  Instrucciones dentro del for\n",
        "}\n",
        "```\n",
        "\n"
      ],
      "metadata": {
        "id": "s1WaPHnOY7Zc"
      }
    },
    {
      "cell_type": "markdown",
      "source": [
        "En un ciclo `for` se ejecuta primero `init`. Luego se ejecuta iterativamente las instrucciones dentro del `for` mientras `condicion` se cumpla. Al final de cada iteración se ejecuta `incremento`. \n",
        "\n",
        "Notar que podemos omitir llaves en `if`, `else`, `else if`, `while` y `for` en caso que el bloque de instrucciones contenga una sóla instrucción. "
      ],
      "metadata": {
        "id": "n6irtIcfeqUL"
      }
    },
    {
      "cell_type": "code",
      "source": [
        "%%writefile ejemplo8.c\n",
        "\n",
        "#include <stdio.h>\n",
        "\n",
        "// prototipo de funciones a usar\n",
        "\n",
        "int potencia(int x, int n);\n",
        "\n",
        "/* aca pueden ir otras definiciones generales \n",
        "como variables globales, tipos de datos creados por el usuario, etc... */\n",
        "\n",
        "int main()\n",
        "{\n",
        "    int num1 = 4, num2 = -40, num3 = 19;\n",
        "\n",
        "    printf(\"num1 elevado a 3: %d\\n\", potencia(num1, 3));\n",
        "    printf(\"num2 elevado a 5: %d\\n\", potencia(num2, 5));\n",
        "    printf(\"num3 elevado a 6: %d\\n\", potencia(num3, 6));\n",
        " \n",
        "    return 0; \n",
        "}\n",
        "\n",
        "// defincion de las funciones declaradas al comienzo\n",
        "\n",
        "int potencia(int x, int n)\n",
        "{\n",
        "    int i;\n",
        "    int salida = 1;\n",
        "    for(i = 0; i < n; i++)\n",
        "        salida *= x;\n",
        " \n",
        "    return salida;\n",
        "}"
      ],
      "metadata": {
        "id": "PliXCXZLf4wR"
      },
      "execution_count": null,
      "outputs": []
    },
    {
      "cell_type": "code",
      "source": [
        "%%shell\n",
        "\n",
        "gcc ejemplo8.c -o ejemplo8\n",
        "./ejemplo8"
      ],
      "metadata": {
        "id": "heNDRycqiSgp"
      },
      "execution_count": null,
      "outputs": []
    },
    {
      "cell_type": "markdown",
      "source": [
        "La _conjectura de Collatz_ o _conjectura $3n+1$_ (https://en.wikipedia.org/wiki/Collatz_conjecture) dice que si le aplicamos la siguiente función $f$ a cualquier entero positivo de manera iterativa, entonces siempre llegaremos a $1$.\n",
        "\n",
        "$$ f(n) = \n",
        "\\begin{cases}\n",
        "\\frac{n}{2} \\quad \\text{si $n$ es par}\\\\\n",
        "3n + 1 \\quad \\text{si $n$ es impar} \n",
        "\\end{cases}\n",
        "$$\n",
        "\n",
        "Con el siguiente código podemos verificar esta conjetura para números pequeños."
      ],
      "metadata": {
        "id": "s7NoCePijkqg"
      }
    },
    {
      "cell_type": "code",
      "source": [
        "%%writefile ejemplo9.c\n",
        "\n",
        "#include <stdio.h>\n",
        "\n",
        "int f(int n);\n",
        "\n",
        "int main()\n",
        "{\n",
        "    int x = 11; // pruebe algún número\n",
        "    \n",
        "    printf(\"%d\\n\", x);\n",
        " \n",
        "    while(x > 1)\n",
        "    { \n",
        "       x = f(x);\n",
        "       printf(\"%d\\n\", x);\n",
        "    }\n",
        " \n",
        "    /* version con for\n",
        "    for(; x > 1; x = f(x))\n",
        "      printf(\"%d\\n\", x);\n",
        "    \n",
        "    printf(\"%d\\n\", x);\n",
        "    */\n",
        "}\n",
        "\n",
        "int f(int n)\n",
        "{\n",
        "    if(n % 2 == 0)\n",
        "      return n/2;\n",
        "    else\n",
        "      return 3*n + 1;\n",
        "}"
      ],
      "metadata": {
        "id": "K61Pmhkqk54y"
      },
      "execution_count": null,
      "outputs": []
    },
    {
      "cell_type": "code",
      "source": [
        "%%shell\n",
        "\n",
        "gcc ejemplo9.c -o ejemplo9\n",
        "./ejemplo9"
      ],
      "metadata": {
        "id": "Nkq-5itfoNG2"
      },
      "execution_count": null,
      "outputs": []
    },
    {
      "cell_type": "markdown",
      "source": [
        "### Arreglos\n",
        "\n",
        "Un arreglo en C nos sirve para almacenar varios valores del **mismo** tipo. Para declarar un arreglo usamos:\n",
        "\n",
        "```c\n",
        "tipo_dato nombre_arreglo[largo_arreglo];\n",
        "```\n",
        "\n",
        "Por ejemplo, las siguientes instrucciones inicializan un arreglo de int de largo 5 y luego le asigna valores. \n",
        "\n",
        "```c\n",
        "int arreglo[5];\n",
        "\n",
        "arreglo[0] = -10;\n",
        "arreglo[1] = 903;\n",
        "arreglo[2] = 76;\n",
        "arreglo[3] = -12;\n",
        "arreglo[4] = 3;\n",
        "```\n",
        "Como es común, la indexación de un arreglo comienza desde 0. \n",
        "\n",
        "Otra forma de inicializar un arreglo es junto a su declaración:\n",
        "```c\n",
        "int arreglo[5] = {-10, 903, 76, -12, 3};\n",
        "```\n",
        "o \n",
        "```c\n",
        "int arreglo[] = {-10, 903, 76, -12, 3};\n",
        "```\n",
        "\n",
        "En cualquier caso, al momento de declarar un arreglo es necesario saber su largo. "
      ],
      "metadata": {
        "id": "lNtShznvp35f"
      }
    },
    {
      "cell_type": "markdown",
      "source": [
        "### Strings\n",
        "\n",
        "En C un string no es un tipo básico sino que es simplemente un arreglo de chars. La única diferencia es que un string siempre termina con un caracter especial `\\0`. "
      ],
      "metadata": {
        "id": "jDbi4M9GuNW6"
      }
    },
    {
      "cell_type": "code",
      "source": [
        "%%writefile ejemplo10.c\n",
        "\n",
        "#include <stdio.h>\n",
        "\n",
        "int main()\n",
        "{\n",
        "   char string[] = \"Hola\";\n",
        "   string[1] = 'u';\n",
        " \n",
        "   printf(\"%s\\n\", string);\n",
        "}\n"
      ],
      "metadata": {
        "id": "VB3DMM1xxkCk"
      },
      "execution_count": null,
      "outputs": []
    },
    {
      "cell_type": "code",
      "source": [
        "%%shell\n",
        "\n",
        "gcc ejemplo10.c -o ejemplo10\n",
        "./ejemplo10"
      ],
      "metadata": {
        "id": "ZDEKyLw9yIab"
      },
      "execution_count": null,
      "outputs": []
    },
    {
      "cell_type": "code",
      "source": [
        "%%writefile ejemplo11.c\n",
        "\n",
        "#include <stdio.h>\n",
        "\n",
        "int comparar_strings(char str1[], char str2[]);\n",
        "\n",
        "int main()\n",
        "{\n",
        "   char str1[] = \"Hola\";\n",
        "   char str2[] = \"Hula\"; \n",
        " \n",
        "   printf(\"%d\\n\", comparar_strings(str1, str2));\n",
        "}\n",
        "\n",
        "int comparar_strings(char str1[], char str2[])\n",
        "{   \n",
        "    int i = 0;\n",
        "    while(str1[i] == str2[i])\n",
        "    {\n",
        "        if(str1[i] == '\\0' || str2[i] == '\\0') \n",
        "        /* en este punto sabemos que los strings son identicos. \n",
        "          La condicion del if podria ser reemplazada por cualquiera de estas 3 opciones, y todo estaria ok:\n",
        "          str1[i] == '\\0' && str2[i] == '\\0'\n",
        "          str1[i] == '\\0'\n",
        "          str2[i] == '\\0'.   */\n",
        " \n",
        "          return 1; \n",
        "   \n",
        "        i++;\n",
        "    }\n",
        "    \n",
        "    return 0; \n",
        "}\n",
        "    \n",
        "    \n",
        "    /* Codigo anterior, el cual es un poco redundante\n",
        "    int i = 0;\n",
        "    while(str1[i] == str2[i])\n",
        "    {\n",
        "        if(str1[i] == '\\0' || str2[i] == '\\0')\n",
        "          break;\n",
        "     \n",
        "        i++;\n",
        "    }\n",
        " \n",
        "    if(str1[i] == '\\0' && str2[i] == '\\0')\n",
        "      return 1;\n",
        "    else\n",
        "      return 0;\n",
        "    */\n"
      ],
      "metadata": {
        "id": "VMaVvjd2ybfD"
      },
      "execution_count": null,
      "outputs": []
    },
    {
      "cell_type": "code",
      "source": [
        "%%shell\n",
        "\n",
        "gcc ejemplo11.c -o ejemplo11\n",
        "./ejemplo11"
      ],
      "metadata": {
        "id": "IvEgj6a80Pfx"
      },
      "execution_count": null,
      "outputs": []
    },
    {
      "cell_type": "markdown",
      "source": [
        "Puede revisar la librería estándar `<string.h>` la cual provee funciones para el manejo de string (`strlen`, `strcmp`, ...). "
      ],
      "metadata": {
        "id": "ueBgT6Kt0bw4"
      }
    },
    {
      "cell_type": "markdown",
      "source": [
        "### Structs\n",
        "\n",
        "En C un `struct` nos permite almacenar varios valores eventualmente de **distinto** tipo. Por ejemplo, podemos definir una struct para manipular cuentas de bancos:\n",
        "\n",
        "```c\n",
        "struct cuenta_banco {\n",
        "  char nombre[80];\n",
        "  long saldo;\n",
        "  int cuenta;\n",
        "  char rut[15];\n",
        "};  \n",
        "```\n",
        "Podemos poner esta declaración antes del main con lo cual definimos un nuevo tipo de dato llamado `struct cuenta_banco`. Ahora podemos declarar una variable de este tipo:\n",
        "```c\n",
        "struct cuenta_banco cta1;\n",
        "\n",
        "cta1.nombre = \"Chino Rios\";\n",
        "cta1.saldo = 1888912092020;\n",
        "cta1.cuenta = 19981882;\n",
        "cta1.rut = \"9879222-6\";\n",
        "```\n",
        "\n",
        "Notar que usamos punto `.`para acceder a los campos de un struct.\n"
      ],
      "metadata": {
        "id": "8TmBP8C-0-Xn"
      }
    }
  ]
}