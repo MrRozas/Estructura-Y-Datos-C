{
  "nbformat": 4,
  "nbformat_minor": 0,
  "metadata": {
    "colab": {
      "name": "Memoria Dinamica.ipynb",
      "provenance": [],
      "collapsed_sections": []
    },
    "kernelspec": {
      "name": "python3",
      "display_name": "Python 3"
    },
    "language_info": {
      "name": "python"
    }
  },
  "cells": [
    {
      "cell_type": "markdown",
      "source": [
        "### Memoria Dinámica en C\n",
        "\n",
        "La _memoria estática_ es la memoria que se maneja de manera automática para cada función. Cada vez que se llama a una función se asigna memoria, y cada vez que salimos de una función esa memoria se pierde. Es decir, no es persistente y su evolución depende de las llamadas a las funciones. En general, la cantidad de memoria estática a utilizar por una función se conoce en tiempo de compilación. Esto es porque cada vez que declaramos una variable conocemos su tipo, y por ende su tamaño. Lo mismo sucede cuando declaramos un arreglo de largo fijo, por ejemplo:  \n",
        "\n",
        "```\n",
        "int arreglo[100];\n",
        "```\n",
        "En este caso la cantidad de memoria necesaria es  `100*sizeof(int)`.\n",
        "\n",
        "Aun así, es posible en C, tener arreglos de largo variable asignados a la memoria estática. En el siguiente ejemplo, el largo es definido en tiempo de ejecución:\n",
        "\n",
        "\n",
        "\n"
      ],
      "metadata": {
        "id": "au31Hn_m1YJ6"
      }
    },
    {
      "cell_type": "code",
      "source": [
        "%%writefile main.c\n",
        "\n",
        "#include <stdio.h>\n",
        "\n",
        "int main()\n",
        "{\n",
        "    int n;\n",
        "    printf(\"Ingrese el tamaño del arreglo: \");\n",
        "    scanf(\"%d\", &n);\n",
        " \n",
        "    \n",
        "    int arreglo[n];\n",
        "    for(int i=0; i<n; i++)\n",
        "      arreglo[i] = 1000+i;\n",
        " \n",
        "    for(int i=0; i<n; i++)\n",
        "      printf(\"Entrada %d del arreglo: %d\\n\", i, arreglo[i]);\n",
        " \n",
        "    return 0; \n",
        "}"
      ],
      "metadata": {
        "id": "8NCq9xY-Yx2k"
      },
      "execution_count": null,
      "outputs": []
    },
    {
      "cell_type": "code",
      "source": [
        "%%shell\n",
        "\n",
        "gcc main.c -o main\n",
        "./main"
      ],
      "metadata": {
        "id": "NAfptSYTZ3Sf"
      },
      "execution_count": null,
      "outputs": []
    },
    {
      "cell_type": "markdown",
      "source": [
        "Por otra parte, la _memoria dinámica_ es memoria manejada por el programador (podemos pedirla explícitamente (`malloc`) y liberarla cuando corresponda (`free`)). Una característica importante de esta memoria es que es persistente entre distintas llamadas a funciones. \n",
        "\n",
        "A modo de ejemplo, supongamos que queremos implementar una función `entrega_arreglo` que recibe un entero n, y entrega un arreglo de enteros de tamaño n, con las entradas 0,...,n-1. La declaración de la función es:\n",
        "\n",
        "```\n",
        "int *entrega_arreglo(int n);\n",
        "```\n",
        "\n",
        "Una posible implementación puede ser:"
      ],
      "metadata": {
        "id": "H2w-GIZOfx3W"
      }
    },
    {
      "cell_type": "code",
      "source": [
        "%%writefile test.c\n",
        "\n",
        "#include <stdio.h>\n",
        "\n",
        "int *entrega_arreglo(int n);\n",
        "\n",
        "int main()\n",
        "{\n",
        "    int n;\n",
        "    printf(\"Ingrese el tamaño del arreglo: \");\n",
        "    scanf(\"%d\", &n);\n",
        " \n",
        "    int *arreglo = entrega_arreglo(n);\n",
        "    for(int i=0; i<n; i++)\n",
        "      printf(\"Entrada %d del arreglo: %d\\n\", i, arreglo[i]);\n",
        "\n",
        "    return 0; \n",
        "}\n",
        "\n",
        "int *entrega_arreglo(int n)\n",
        "{\n",
        "    int arreglo[n];\n",
        "    for(int i=0; i<n; i++)\n",
        "      arreglo[i] = i;\n",
        "\n",
        "    return arreglo;\n",
        "}"
      ],
      "metadata": {
        "id": "r8VXzPLmhMZY"
      },
      "execution_count": null,
      "outputs": []
    },
    {
      "cell_type": "code",
      "source": [
        "%%shell\n",
        "\n",
        "gcc test.c -o test\n",
        "./test"
      ],
      "metadata": {
        "id": "ZeIh6cYUiEUG"
      },
      "execution_count": null,
      "outputs": []
    },
    {
      "cell_type": "markdown",
      "source": [
        "La función falla (segmentation fault) ya que en el main, el puntero `arreglo` apunta a memoria prohibida que fue perdida al salir de la función `entrega_arreglo`. Lo que debemos hacer es pedir memoria dinámica dentro de la función `entrega_arreglo` utilizando la función `malloc`. Esta memoria estará disponible incluso después de terminada la función (luego estará disponible en el main). La función `malloc` recibe como argumento la cantidad de bytes a pedir y retorna un puntero a `void`(tipo `void *`). Este es un tipo de puntero especial que en principio apunta a cualquier tipo. Para el uso adecuado de malloc es necesario hacer un cast de la salida al tipo de puntero que queremos. "
      ],
      "metadata": {
        "id": "lneHNPbjiwJx"
      }
    },
    {
      "cell_type": "code",
      "source": [
        "%%writefile test1.c\n",
        "\n",
        "#include <stdio.h>\n",
        "#include <stdlib.h>\n",
        "\n",
        "int *entrega_arreglo(int n);\n",
        "\n",
        "int main()\n",
        "{\n",
        "    int n;\n",
        "    printf(\"Ingrese el tamaño del arreglo: \");\n",
        "    scanf(\"%d\", &n);\n",
        " \n",
        "    int *arreglo = entrega_arreglo(n);\n",
        "    for(int i=0; i<n; i++)\n",
        "      printf(\"Entrada %d del arreglo: %d\\n\", i, arreglo[i]);\n",
        "\n",
        "    return 0; \n",
        "}\n",
        "\n",
        "int *entrega_arreglo(int n)\n",
        "{\n",
        "    int *arreglo = (int *)malloc(n*sizeof(int));\n",
        "    for(int i=0; i<n; i++)\n",
        "      arreglo[i] = i;\n",
        "\n",
        "    return arreglo;\n",
        "}"
      ],
      "metadata": {
        "id": "IadRjViXj39y"
      },
      "execution_count": null,
      "outputs": []
    },
    {
      "cell_type": "code",
      "source": [
        "%%shell\n",
        "\n",
        "gcc test1.c -o test1\n",
        "./test1"
      ],
      "metadata": {
        "id": "7_-qmAX8kyOd"
      },
      "execution_count": null,
      "outputs": []
    },
    {
      "cell_type": "markdown",
      "source": [
        "Con malloc podemos pedir memoria para un arreglo de tipo de datos básicos como int, float, o char, pero también para tipo de datos más complejos como punteros o estructuras. "
      ],
      "metadata": {
        "id": "LlWJQJw0lHBh"
      }
    }
  ]
}