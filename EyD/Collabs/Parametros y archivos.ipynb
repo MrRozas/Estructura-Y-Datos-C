{
  "nbformat": 4,
  "nbformat_minor": 0,
  "metadata": {
    "colab": {
      "name": "Parametros y archivos.ipynb",
      "provenance": [],
      "collapsed_sections": []
    },
    "kernelspec": {
      "name": "python3",
      "display_name": "Python 3"
    },
    "language_info": {
      "name": "python"
    }
  },
  "cells": [
    {
      "cell_type": "markdown",
      "source": [
        "### Argumentos de entrada a un programa\n",
        "\n",
        "Es posible entregar argumentos de entrada al momento de llamar a un ejecutable. Para recibir estos argumentos usamos los parámetros `argc` y `argv` de la función `main`:\n",
        "\n",
        "- **argc** es un int y almacena la cantidad de argumentos entregados al programa _incluyendo_ el nombre del programa.\n",
        "- **argv** es un arreglo de punteros a chars (es decir, strings) que contiene cada uno de los argumentos entregados. El largo de `argv` es `argc`. En particular, `argv[0]` es un string que almacena el nombre del programa. \n",
        "\n",
        "A continuación un ejemplo."
      ],
      "metadata": {
        "id": "xFOJA9rMyN3z"
      }
    },
    {
      "cell_type": "code",
      "execution_count": null,
      "metadata": {
        "id": "ku72eRYas0_l"
      },
      "outputs": [],
      "source": [
        "%%writefile main.c\n",
        "\n",
        "#include <stdio.h>\n",
        "\n",
        "int main(int argc, char *argv[])\n",
        "{\n",
        "    printf(\"La cantidad de argumentos es: %d\\n\", argc);\n",
        "    for(int i = 0; i < argc; ++i)\n",
        "        printf(\"El argumento %d es %s\\n\", i, argv[i]);\n",
        " \n",
        "    // aca en mi codigo puedo hacer lo que quiera con argc y argv...\n",
        "}"
      ]
    },
    {
      "cell_type": "markdown",
      "source": [
        "Recuerde que en las tareas debe usar Makefiles. Acá por simplicidad escribimos los comandos directos en la shell. Pruebe pasando distintos argumentos al ejecutable (es decir, cambiando la linea `./tarea1 hola que tal`)"
      ],
      "metadata": {
        "id": "fAT7MWU20wvc"
      }
    },
    {
      "cell_type": "code",
      "source": [
        "%%shell \n",
        "\n",
        "gcc main.c -o tarea1\n",
        "./tarea1 hola que tal"
      ],
      "metadata": {
        "id": "4sB9SFnls_nq"
      },
      "execution_count": null,
      "outputs": []
    },
    {
      "cell_type": "markdown",
      "source": [
        "### Manejo de archivos\n",
        "\n",
        "Para abrir un archivo puede usar la función `fopen` de la librería estándar `<stdio.h>`. El primer argumento de fopen es el nombre del archivo y el segundo es el modo (\"r\" para lectura y \"w\" para escritura). La función `fopen` entrega un puntero a un objeto de tipo `FILE`. Para cerrar el archivo usar `fclose`. \n",
        "\n",
        "Hay varias formas de leer un archivo. La más simple es con la función `fgetc` que entrega un caracter del archivo. En caso de error o de fin de archivo entrega la macro `EOF` (end of file). \n",
        "\n",
        "Supongamos que tenemos el siguiente archivo:"
      ],
      "metadata": {
        "id": "au31Hn_m1YJ6"
      }
    },
    {
      "cell_type": "code",
      "source": [
        "%%writefile archivo.txt\n",
        "Lorem ipsum, LOREM IPSUM, LoReM iPsUm!"
      ],
      "metadata": {
        "id": "vHW98odC3yY3"
      },
      "execution_count": null,
      "outputs": []
    },
    {
      "cell_type": "markdown",
      "source": [
        "El siguiente código lee el archivo caracter por caracter y lo escribe en pantalla de tres formas: normal, todo en minuscula, todo en mayuscula."
      ],
      "metadata": {
        "id": "OwBnBo0I4MxV"
      }
    },
    {
      "cell_type": "code",
      "source": [
        "%%writefile test1.c\n",
        "\n",
        "#include <stdio.h>\n",
        "#include <ctype.h>\n",
        "\n",
        "int main(int argc, char *argv[])\n",
        "{\n",
        "  // normal \n",
        " \n",
        "  FILE *fp = fopen(\"archivo.txt\", \"r\");\n",
        "  char c = fgetc(fp);\n",
        "  while(c != EOF)\n",
        "  {\n",
        "      printf(\"%c\", c);\n",
        "      c = fgetc(fp);\n",
        "  }\n",
        "  fclose(fp);\n",
        " \n",
        "  printf(\"\\n\");\n",
        " // minusculas\n",
        "  fp = fopen(\"archivo.txt\", \"r\");\n",
        "  c = fgetc(fp);\n",
        "  while(c != EOF)\n",
        "  {\n",
        "      printf(\"%c\", tolower(c));\n",
        "      c = fgetc(fp);\n",
        "  }\n",
        "  fclose(fp);\n",
        " \n",
        "  printf(\"\\n\");\n",
        " // mayusculas\n",
        "  fp = fopen(\"archivo.txt\", \"r\");\n",
        "  c = fgetc(fp);\n",
        "  while(c != EOF)\n",
        "  {\n",
        "      printf(\"%c\", toupper(c));\n",
        "      c = fgetc(fp);\n",
        "  }\n",
        "  fclose(fp);\n",
        "}"
      ],
      "metadata": {
        "id": "O-BzpnCY4X4x"
      },
      "execution_count": null,
      "outputs": []
    },
    {
      "cell_type": "code",
      "source": [
        "%%shell \n",
        "\n",
        "gcc test1.c -o test1\n",
        "./test1"
      ],
      "metadata": {
        "id": "nI4w3wBE5cRC"
      },
      "execution_count": null,
      "outputs": []
    },
    {
      "cell_type": "markdown",
      "source": [
        "Puede revisar otras funciones para leer archivos como `fgets` y `fscanf`.\n",
        "\n",
        "Para escribir en un archivo, la forma más simple es con la función `fputc` la cual escribe un caracter.\n",
        "\n",
        "Por ejemplo, el siguiente código lee el archivo anterior `archivo.txt` y escribe el contenido en minusculas a un archivo `archivo_min.txt` (si este archivo no existe entonces se crea)."
      ],
      "metadata": {
        "id": "ZIv2xcRg9pE7"
      }
    },
    {
      "cell_type": "code",
      "source": [
        "%%writefile test2.c\n",
        "\n",
        "#include <stdio.h>\n",
        "#include <ctype.h>\n",
        "\n",
        "int main(int argc, char *argv[])\n",
        "{\n",
        "\n",
        "  FILE *fin = fopen(\"archivo.txt\", \"r\");\n",
        "  FILE *fout = fopen(\"archivo_min.txt\", \"w\");\n",
        "  char c = fgetc(fin);\n",
        "  while(c != EOF)\n",
        "  {\n",
        "      fputc(tolower(c), fout);\n",
        "      c = fgetc(fin);\n",
        "  }\n",
        " \n",
        "  fclose(fin);\n",
        "  fclose(fout);\n",
        " \n",
        "}"
      ],
      "metadata": {
        "id": "eBJmeCv4-l14"
      },
      "execution_count": null,
      "outputs": []
    },
    {
      "cell_type": "code",
      "source": [
        "%%shell \n",
        "\n",
        "gcc test2.c -o test2\n",
        "./test2"
      ],
      "metadata": {
        "id": "AFgnJuUa_dwC"
      },
      "execution_count": null,
      "outputs": []
    },
    {
      "cell_type": "markdown",
      "source": [
        "Puede abrir el .txt generado al lado izquierdo de este Colab. Para otras funciones de escritura, puede revisar `fputs` y `fprintf`."
      ],
      "metadata": {
        "id": "vK47uauy_inV"
      }
    },
    {
      "cell_type": "markdown",
      "source": [
        "### Caracteres y Strings\n",
        "\n",
        "Para manejo de caracteres puede revisar la librería estándar `<ctype.h>`. Funciones que pueden ser útiles son: `toupper` (pasa a mayusculas), `tolower` (pasa a minusculas), `isupper` (chequea si es mayuscula), `islower` (chequea si es minuscula). \n",
        "\n",
        "Para manejo de strings puede revisar la librería estándar `<string.h>`. Algunas funciones útiles: `strlen` (largo del string), `strcmp` (compara dos strings), `strcat` (concatena strings). "
      ],
      "metadata": {
        "id": "Wvvw9iEEB7K2"
      }
    }
  ]
}