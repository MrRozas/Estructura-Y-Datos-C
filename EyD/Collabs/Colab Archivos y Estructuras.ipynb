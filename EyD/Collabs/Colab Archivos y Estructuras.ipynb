{
  "nbformat": 4,
  "nbformat_minor": 0,
  "metadata": {
    "colab": {
      "name": "Archivos y Estructuras.ipynb",
      "provenance": [],
      "collapsed_sections": []
    },
    "kernelspec": {
      "name": "python3",
      "display_name": "Python 3"
    },
    "language_info": {
      "name": "python"
    }
  },
  "cells": [
    {
      "cell_type": "markdown",
      "source": [
        "### Manejo de archivos (II) y Estructuras\n",
        "\n",
        "Una forma común de leer un archivo línea a línea es usando la función `fgets`. Su llamada es:\n",
        "```\n",
        "fgets(line, maxline, fp);\n",
        "```\n",
        "donde `line` es un arreglo de caracteres, `maxline` un entero y `fp` un puntero al archivo. La función guarda en el arreglo `line` la siguiente línea del archivo (incluyendo el caracter nueva línea `'\\n'`). Si la línea es muy larga, la cantidad máxima de caracteres leidos es `maxline-1`. Asegurese de que el arreglo `line` tenga el tamaño suficiente. La función retorna `NULL` en caso que alcancemos el final del archivo o haya un error.\n",
        "\n",
        "En el siguiente ejemplo las líneas del archivo tienen la forma:\n",
        "```\n",
        "(string solo letras y espacios),int\n",
        "````\n",
        "El valor int puede estar ausente. Para almacenar líneas usaremos un struct `ejemplo` con dos campos que podemos definir como sigue:\n",
        "```\n",
        "typedef struct n {\n",
        "  char palabra[100];\n",
        "  int x;\n",
        "} ejemplo;\n",
        "```\n",
        "\n",
        "Acá el nombre de la estructura es `struct n`. Recuerde que el comando `typedef` nos permite renombrar tipos de datos. En este caso renombramos el tipo `struct n` a `ejemplo`.  \n",
        "\n",
        "Asumiremos que el entero `x` es mayor o igual a `0`. Usaremos el valor `-1` para indicar que `x` no está definido.\n",
        "\n",
        "En el siguiente ejemplo, leemos un archivo línea a línea y rellenamos un arreglo donde cada entrada contiene la estructura asociada a cada línea. Asumimos un máximo en la cantidad de líneas y un máximo en el tamaño de cada línea.\n"
      ],
      "metadata": {
        "id": "au31Hn_m1YJ6"
      }
    },
    {
      "cell_type": "code",
      "source": [
        "%%writefile archivo.txt\n",
        "Enrique Dieguez,3\n",
        "Lino Montoya,\n",
        "Manuel Villagra,23\n",
        "Paulina Gaete,\n",
        "Pablo Barcelo,101\n",
        "Leticia Espinosa,93\n",
        "Carolina Olivares,\n",
        "\n"
      ],
      "metadata": {
        "id": "vHW98odC3yY3"
      },
      "execution_count": null,
      "outputs": []
    },
    {
      "cell_type": "code",
      "source": [
        "%%writefile test.c\n",
        "\n",
        "#include <stdio.h>\n",
        "#include <string.h>\n",
        "#include <stdlib.h>\n",
        "\n",
        "#define MAX_LINES 100\n",
        "#define MAX_LINE_SIZE 100\n",
        "\n",
        "typedef struct n {\n",
        "  char palabra[100];\n",
        "  int x;\n",
        "} ejemplo;\n",
        "\n",
        "int main(int argc, char *argv[])\n",
        "{\n",
        "    ejemplo arreglo[MAX_LINES];\n",
        "    int i = 0;\n",
        "    FILE *fp = fopen(argv[1], \"r\");\n",
        "    char line[MAX_LINE_SIZE];\n",
        "    char *token;\n",
        "    // Leemos linea a linea \n",
        "    while(fgets(line, MAX_LINE_SIZE, fp) != NULL) // el arreglo line se rellena con los caracteres de la linea\n",
        "    {\n",
        "        // strtok(line, \",\") entrega el substring desde el comienzo hasta la primera aparicion del delimitador \",\" (excluyendolo)\n",
        "        // Copiamos el substring al campo palabra de la estructura\n",
        "        strcpy(arreglo[i].palabra, strtok(line, \",\"));\n",
        "        // Obtenemos el siguiente substring\n",
        "        token = strtok(NULL, \",\");\n",
        "        if(strcmp(token, \"\\n\") == 0) // caso que no hay int\n",
        "          arreglo[i].x = -1;\n",
        "        else\n",
        "          arreglo[i].x = atoi(token); // atoi convierte un string a int\n",
        "     \n",
        "        i++;\n",
        "    }\n",
        " \n",
        "    // Mostramos el arreglo generado\n",
        "    // En este punto la variable i contiene la cantidad de elementos en el arreglo\n",
        "    for(int j=0; j < i; j++)\n",
        "        printf(\"Entrada %d:\\npalabra: %s\\nx: %d\\n\", j, arreglo[j].palabra, arreglo[j].x);\n",
        "\n",
        "    return 0;\n",
        "\n",
        "}"
      ],
      "metadata": {
        "id": "iVgDl3aNqFHH"
      },
      "execution_count": null,
      "outputs": []
    },
    {
      "cell_type": "code",
      "source": [
        "%%shell\n",
        "\n",
        "gcc test.c -o test\n",
        "./test archivo.txt"
      ],
      "metadata": {
        "id": "QJ9PvxZXIwPq"
      },
      "execution_count": null,
      "outputs": []
    },
    {
      "cell_type": "markdown",
      "source": [
        "Ojo que las distintas llamadas de `strtok` están relacionadas. La primera siempre tiene la forma `strtok(str, del)`, donde `str` es el string a ser particionado y `del` es un string que contiene los delimitadores (pueden ser más de uno). Esta primera llamada nos entrega el primer \"token\", es decir, el substring desde el comienzo hasta el primer delimitador (excluyéndolo). Para obtener los siguientes token usamos las llamadas `strtok(NULL, del)`. \n",
        "\n",
        "Un detalle: en este caso, es importante que la última línea (en este caso \"Carolina Olivares,\") termine con un salto de línea. De lo contrario, la línea de código\n",
        "\n",
        "```\n",
        "token = strtok(NULL, \",\");\n",
        "```\n",
        "\n",
        "arroja un `segmentation fault`. Esto tipo de error sucede cuando se quiere acceder una espacio de memoria prohibido. ¿Por qué sucede esto?\n"
      ],
      "metadata": {
        "id": "ZIv2xcRg9pE7"
      }
    }
  ]
}